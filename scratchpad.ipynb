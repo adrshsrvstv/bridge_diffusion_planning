{
 "cells": [
  {
   "cell_type": "code",
   "execution_count": 2,
   "id": "0e3961fb",
   "metadata": {
    "scrolled": true
   },
   "outputs": [
    {
     "name": "stderr",
     "output_type": "stream",
     "text": [
      "/home/users/adarsh/anaconda3/envs/diffuser/lib/python3.8/site-packages/glfw/__init__.py:916: GLFWError: (65544) b'X11: The DISPLAY environment variable is missing'\n",
      "  warnings.warn(message, GLFWError)\n",
      "pybullet build time: May 20 2022 19:44:17\n"
     ]
    }
   ],
   "source": [
    "import d4rl\n",
    "import gym\n",
    "import numpy as np"
   ]
  },
  {
   "cell_type": "code",
   "execution_count": 3,
   "id": "91e84509",
   "metadata": {},
   "outputs": [
    {
     "name": "stderr",
     "output_type": "stream",
     "text": [
      "load datafile: 100%|████████████████████████████████████████████████████████████████████████████████████████████████████████████████████████████████████████████████████████████████████████████████████████████| 8/8 [00:00<00:00, 33.64it/s]\n"
     ]
    },
    {
     "data": {
      "text/plain": [
       "(array([    91,    144,    230, ..., 999592, 999702, 999868]),)"
      ]
     },
     "execution_count": 3,
     "metadata": {},
     "output_type": "execute_result"
    }
   ],
   "source": [
    "env = gym.make('maze2d-umaze-v1')\n",
    "dataset = env.get_dataset()\n",
    "np.where(dataset['timeouts']==1)"
   ]
  },
  {
   "cell_type": "code",
   "execution_count": 4,
   "id": "97fef4bd",
   "metadata": {},
   "outputs": [
    {
     "data": {
      "text/plain": [
       "[(1, 1)]"
      ]
     },
     "execution_count": 4,
     "metadata": {},
     "output_type": "execute_result"
    }
   ],
   "source": [
    "env.unwrapped.goal_locations"
   ]
  },
  {
   "cell_type": "code",
   "execution_count": 5,
   "id": "f95293eb",
   "metadata": {},
   "outputs": [
    {
     "data": {
      "text/plain": [
       "array([0.00099822, 0.00189032, 0.09982178, 0.18903173])"
      ]
     },
     "execution_count": 5,
     "metadata": {},
     "output_type": "execute_result"
    }
   ],
   "source": [
    "env.state_vector()"
   ]
  },
  {
   "cell_type": "code",
   "execution_count": 6,
   "id": "3554de16",
   "metadata": {},
   "outputs": [
    {
     "data": {
      "text/plain": [
       "300"
      ]
     },
     "execution_count": 6,
     "metadata": {},
     "output_type": "execute_result"
    }
   ],
   "source": [
    "env.unwrapped.max_episode_steps = env._max_episode_steps\n",
    "env.unwrapped.max_episode_steps"
   ]
  },
  {
   "cell_type": "code",
   "execution_count": 7,
   "id": "9557fdeb",
   "metadata": {},
   "outputs": [
    {
     "data": {
      "text/plain": [
       "{'actions': array([[-0.56856084, -0.27724722],\n",
       "        [-1.        ,  0.6666507 ],\n",
       "        [-1.        ,  1.        ],\n",
       "        [-0.57507885,  1.        ],\n",
       "        [ 0.19998227,  0.3388329 ],\n",
       "        [-0.85686654,  1.        ],\n",
       "        [-0.70776117,  1.        ],\n",
       "        [ 0.2815406 ,  1.        ],\n",
       "        [ 0.3058027 ,  1.        ],\n",
       "        [-0.17358942,  1.        ]], dtype=float32),\n",
       " 'infos/goal': array([[3.036284, 3.022871],\n",
       "        [3.036284, 3.022871],\n",
       "        [3.036284, 3.022871],\n",
       "        [3.036284, 3.022871],\n",
       "        [3.036284, 3.022871],\n",
       "        [3.036284, 3.022871],\n",
       "        [3.036284, 3.022871],\n",
       "        [3.036284, 3.022871],\n",
       "        [3.036284, 3.022871],\n",
       "        [3.036284, 3.022871]], dtype=float32),\n",
       " 'infos/qpos': array([[1.0856489, 1.9745734],\n",
       "        [1.0843927, 1.97413  ],\n",
       "        [1.0807577, 1.9752754],\n",
       "        [1.0747498, 1.9787997],\n",
       "        [1.0673866, 1.9846972],\n",
       "        [1.0605173, 1.9913877],\n",
       "        [1.0516236, 2.000444 ],\n",
       "        [1.0410653, 2.0118601],\n",
       "        [1.0312028, 2.025631 ],\n",
       "        [1.0220921, 2.0417504]], dtype=float32),\n",
       " 'infos/qvel': array([[ 0.00981035,  0.02174424],\n",
       "        [-0.12562364, -0.04433781],\n",
       "        [-0.3634883 ,  0.11453988],\n",
       "        [-0.60078645,  0.35243094],\n",
       "        [-0.7363186 ,  0.5897554 ],\n",
       "        [-0.6869364 ,  0.66904855],\n",
       "        [-0.889375  ,  0.90561897],\n",
       "        [-1.0558199 ,  1.141626  ],\n",
       "        [-0.98625255,  1.3770709 ],\n",
       "        [-0.9110725 ,  1.611955  ]], dtype=float32),\n",
       " 'observations': array([[ 1.0856489 ,  1.9745734 ,  0.00981035,  0.02174424],\n",
       "        [ 1.0843927 ,  1.97413   , -0.12562364, -0.04433781],\n",
       "        [ 1.0807577 ,  1.9752754 , -0.3634883 ,  0.11453988],\n",
       "        [ 1.0747498 ,  1.9787997 , -0.60078645,  0.35243094],\n",
       "        [ 1.0673866 ,  1.9846972 , -0.7363186 ,  0.5897554 ],\n",
       "        [ 1.0605173 ,  1.9913877 , -0.6869364 ,  0.66904855],\n",
       "        [ 1.0516236 ,  2.000444  , -0.889375  ,  0.90561897],\n",
       "        [ 1.0410653 ,  2.0118601 , -1.0558199 ,  1.141626  ],\n",
       "        [ 1.0312028 ,  2.025631  , -0.98625255,  1.3770709 ],\n",
       "        [ 1.0220921 ,  2.0417504 , -0.9110725 ,  1.611955  ]],\n",
       "       dtype=float32),\n",
       " 'rewards': array([0., 0., 0., 0., 0., 0., 0., 0., 0., 0.], dtype=float32),\n",
       " 'terminals': array([False, False, False, False, False, False, False, False, False,\n",
       "        False]),\n",
       " 'timeouts': array([False, False, False, False, False, False, False, False, False,\n",
       "        False])}"
      ]
     },
     "execution_count": 7,
     "metadata": {},
     "output_type": "execute_result"
    }
   ],
   "source": [
    "{k:v[0:10] for k,v in dataset.items()}"
   ]
  },
  {
   "cell_type": "code",
   "execution_count": 8,
   "id": "7af60165",
   "metadata": {},
   "outputs": [
    {
     "data": {
      "text/plain": [
       "{'actions': array([[-0.44485816, -0.28783458],\n",
       "        [-1.        ,  0.10188948],\n",
       "        [-0.86629534, -0.7061774 ],\n",
       "        [-1.        , -0.43705118],\n",
       "        [-0.83433855, -0.6813955 ],\n",
       "        [-1.        ,  0.12431113],\n",
       "        [-0.7744256 , -0.01577702],\n",
       "        [-1.        , -0.85744804],\n",
       "        [-0.42496255,  0.03549777],\n",
       "        [-1.        , -0.16718516],\n",
       "        [-0.9986516 ,  0.7941246 ],\n",
       "        [-1.        , -1.        ],\n",
       "        [-1.        , -0.46347594],\n",
       "        [-0.47986785,  0.23541717],\n",
       "        [-1.        ,  0.19184636],\n",
       "        [-0.80567414,  0.72089   ],\n",
       "        [-1.        ,  0.5853617 ],\n",
       "        [-0.80314255, -0.38177225],\n",
       "        [-0.5594637 , -0.3783816 ],\n",
       "        [-0.8619271 ,  0.6341822 ],\n",
       "        [-0.23198843, -0.05428014],\n",
       "        [-0.8293132 ,  0.3993299 ],\n",
       "        [-0.05379655,  0.1787489 ],\n",
       "        [-1.        ,  0.14792313],\n",
       "        [-0.92931616, -0.12765189]], dtype=float32),\n",
       " 'infos/goal': array([[3.036284 , 3.022871 ],\n",
       "        [3.036284 , 3.022871 ],\n",
       "        [3.036284 , 3.022871 ],\n",
       "        [3.036284 , 3.022871 ],\n",
       "        [3.036284 , 3.022871 ],\n",
       "        [3.036284 , 3.022871 ],\n",
       "        [3.036284 , 3.022871 ],\n",
       "        [2.0119207, 3.0330381],\n",
       "        [2.0119207, 3.0330381],\n",
       "        [2.0119207, 3.0330381],\n",
       "        [2.0119207, 3.0330381],\n",
       "        [2.0119207, 3.0330381],\n",
       "        [2.0119207, 3.0330381],\n",
       "        [2.0119207, 3.0330381],\n",
       "        [2.0119207, 3.0330381],\n",
       "        [2.0119207, 3.0330381],\n",
       "        [2.0119207, 3.0330381],\n",
       "        [2.0119207, 3.0330381],\n",
       "        [2.0119207, 3.0330381],\n",
       "        [2.0119207, 3.0330381],\n",
       "        [2.0119207, 3.0330381],\n",
       "        [2.0119207, 3.0330381],\n",
       "        [2.0119207, 3.0330381],\n",
       "        [2.0119207, 3.0330381],\n",
       "        [2.0119207, 3.0330381]], dtype=float32),\n",
       " 'infos/qpos': array([[2.6982772, 2.9864216],\n",
       "        [2.7410448, 2.9907696],\n",
       "        [2.7813284, 2.99535  ],\n",
       "        [2.8194532, 2.9982374],\n",
       "        [2.8551056, 3.000077 ],\n",
       "        [2.888686 , 3.0002894],\n",
       "        [2.9198046, 3.0007975],\n",
       "        [2.9490047, 3.0012667],\n",
       "        [2.9757538, 2.9996927],\n",
       "        [3.001427 , 2.998207 ],\n",
       "        [3.0246572, 2.9963267],\n",
       "        [3.0454538, 2.9963422],\n",
       "        [3.0638194, 2.993976 ],\n",
       "        [3.0797594, 2.9905117],\n",
       "        [3.0945187, 2.987616 ],\n",
       "        [3.106861 , 2.9851844],\n",
       "        [3.1172554, 2.9844754],\n",
       "        [3.1252432, 2.9851623],\n",
       "        [3.1312993, 2.9849381],\n",
       "        [3.1360083, 2.9838135],\n",
       "        [3.1386535, 2.984202 ],\n",
       "        [3.14074  , 2.98446  ],\n",
       "        [3.140846 , 2.9856687],\n",
       "        [3.140824 , 2.9873002],\n",
       "        [3.1384203, 2.9892802]], dtype=float32),\n",
       " 'infos/qvel': array([[ 4.39314938e+00,  5.04547715e-01],\n",
       "        [ 4.27673721e+00,  4.34794277e-01],\n",
       "        [ 4.02838755e+00,  4.58025128e-01],\n",
       "        [ 3.81247330e+00,  2.88748384e-01],\n",
       "        [ 3.56522965e+00,  1.83970898e-01],\n",
       "        [ 3.35802913e+00,  2.12489776e-02],\n",
       "        [ 3.11186767e+00,  5.08047864e-02],\n",
       "        [ 2.92001629e+00,  4.69262712e-02],\n",
       "        [ 2.67489791e+00, -1.57398611e-01],\n",
       "        [ 2.56731653e+00, -1.48569450e-01],\n",
       "        [ 2.32303834e+00, -1.88033074e-01],\n",
       "        [ 2.07966304e+00,  1.54652749e-03],\n",
       "        [ 1.83654618e+00, -2.36620992e-01],\n",
       "        [ 1.59400833e+00, -3.46440673e-01],\n",
       "        [ 1.47592485e+00, -2.89547712e-01],\n",
       "        [ 1.23424590e+00, -2.43167251e-01],\n",
       "        [ 1.03942394e+00, -7.08981752e-02],\n",
       "        [ 7.98784494e-01,  6.86826706e-02],\n",
       "        [ 6.05602562e-01, -2.24052500e-02],\n",
       "        [ 4.70916241e-01, -1.12468712e-01],\n",
       "        [ 2.64514834e-01,  3.88384275e-02],\n",
       "        [ 2.08633587e-01,  2.58183610e-02],\n",
       "        [ 1.06242765e-02,  1.20862812e-01],\n",
       "        [-2.21341988e-03,  1.63146481e-01],\n",
       "        [-2.40371987e-01,  1.97987869e-01]], dtype=float32),\n",
       " 'observations': array([[ 2.69827724e+00,  2.98642159e+00,  4.39314938e+00,\n",
       "          5.04547715e-01],\n",
       "        [ 2.74104476e+00,  2.99076962e+00,  4.27673721e+00,\n",
       "          4.34794277e-01],\n",
       "        [ 2.78132844e+00,  2.99534988e+00,  4.02838755e+00,\n",
       "          4.58025128e-01],\n",
       "        [ 2.81945324e+00,  2.99823737e+00,  3.81247330e+00,\n",
       "          2.88748384e-01],\n",
       "        [ 2.85510564e+00,  3.00007701e+00,  3.56522965e+00,\n",
       "          1.83970898e-01],\n",
       "        [ 2.88868594e+00,  3.00028944e+00,  3.35802913e+00,\n",
       "          2.12489776e-02],\n",
       "        [ 2.91980457e+00,  3.00079751e+00,  3.11186767e+00,\n",
       "          5.08047864e-02],\n",
       "        [ 2.91980457e+00,  3.00079751e+00,  3.11186767e+00,\n",
       "          5.08047864e-02],\n",
       "        [ 2.97575378e+00,  2.99969268e+00,  2.67489791e+00,\n",
       "         -1.57398611e-01],\n",
       "        [ 3.00142694e+00,  2.99820709e+00,  2.56731653e+00,\n",
       "         -1.48569450e-01],\n",
       "        [ 3.02465725e+00,  2.99632668e+00,  2.32303834e+00,\n",
       "         -1.88033074e-01],\n",
       "        [ 3.04545379e+00,  2.99634218e+00,  2.07966304e+00,\n",
       "          1.54652749e-03],\n",
       "        [ 3.06381941e+00,  2.99397612e+00,  1.83654618e+00,\n",
       "         -2.36620992e-01],\n",
       "        [ 3.07975936e+00,  2.99051166e+00,  1.59400833e+00,\n",
       "         -3.46440673e-01],\n",
       "        [ 3.09451866e+00,  2.98761606e+00,  1.47592485e+00,\n",
       "         -2.89547712e-01],\n",
       "        [ 3.10686111e+00,  2.98518443e+00,  1.23424590e+00,\n",
       "         -2.43167251e-01],\n",
       "        [ 3.11725545e+00,  2.98447537e+00,  1.03942394e+00,\n",
       "         -7.08981752e-02],\n",
       "        [ 3.12524319e+00,  2.98516226e+00,  7.98784494e-01,\n",
       "          6.86826706e-02],\n",
       "        [ 3.13129926e+00,  2.98493814e+00,  6.05602562e-01,\n",
       "         -2.24052500e-02],\n",
       "        [ 3.13600826e+00,  2.98381352e+00,  4.70916241e-01,\n",
       "         -1.12468712e-01],\n",
       "        [ 3.13865352e+00,  2.98420191e+00,  2.64514834e-01,\n",
       "          3.88384275e-02],\n",
       "        [ 3.14073992e+00,  2.98446012e+00,  2.08633587e-01,\n",
       "          2.58183610e-02],\n",
       "        [ 3.14084601e+00,  2.98566866e+00,  1.06242765e-02,\n",
       "          1.20862812e-01],\n",
       "        [ 3.14082408e+00,  2.98730016e+00, -2.21341988e-03,\n",
       "          1.63146481e-01],\n",
       "        [ 3.13842034e+00,  2.98928022e+00, -2.40371987e-01,\n",
       "          1.97987869e-01]], dtype=float32),\n",
       " 'rewards': array([0., 0., 0., 0., 0., 0., 0., 0., 0., 0., 0., 0., 0., 0., 0., 0., 0.,\n",
       "        0., 0., 0., 0., 0., 0., 0., 0.], dtype=float32),\n",
       " 'terminals': array([False, False, False, False, False, False, False, False, False,\n",
       "        False, False, False, False, False, False, False, False, False,\n",
       "        False, False, False, False, False, False, False]),\n",
       " 'timeouts': array([False, False, False, False, False, False,  True, False, False,\n",
       "        False, False, False, False, False, False, False, False, False,\n",
       "        False, False, False, False, False, False, False])}"
      ]
     },
     "execution_count": 8,
     "metadata": {},
     "output_type": "execute_result"
    }
   ],
   "source": [
    "{k:v[85:110] for k,v in dataset.items()}"
   ]
  },
  {
   "cell_type": "code",
   "execution_count": 10,
   "id": "4dac2d01",
   "metadata": {},
   "outputs": [
    {
     "name": "stdout",
     "output_type": "stream",
     "text": [
      "1000000\n",
      "dict_keys(['actions', 'infos/goal', 'infos/qpos', 'infos/qvel', 'observations', 'rewards', 'terminals', 'timeouts'])\n",
      "[-0.6284441   0.09111674]\n",
      "[ 0.97895855  2.180523   -0.42206582  2.7247157 ]\n",
      "[0.97895855 2.180523  ]\n",
      "[-0.42206582  2.7247157 ]\n"
     ]
    }
   ],
   "source": [
    "n=15\n",
    "print(len(dataset['actions']))\n",
    "print(dataset.keys())\n",
    "print(dataset['actions'][n])\n",
    "print(dataset['observations'][n])\n",
    "print(dataset['infos/qpos'][n])\n",
    "print(dataset['infos/qvel'][n])"
   ]
  },
  {
   "cell_type": "code",
   "execution_count": null,
   "id": "00dfaa9d",
   "metadata": {},
   "outputs": [],
   "source": [
    "np.where(dataset['timeouts']==1)[0]"
   ]
  },
  {
   "cell_type": "code",
   "execution_count": null,
   "id": "daf25369",
   "metadata": {},
   "outputs": [],
   "source": [
    "{k:v[0:93] for k,v in dataset_naive.items()}"
   ]
  },
  {
   "cell_type": "code",
   "execution_count": null,
   "id": "02311f47",
   "metadata": {},
   "outputs": [],
   "source": [
    "import copy\n",
    "from math import atan2, sin, cos, radians\n",
    "dataset_naive = copy.deepcopy(dataset)\n",
    "    \n",
    "\n",
    "def calc_action(start, goal):\n",
    "    delta_x = goal[0] - start[0]\n",
    "    delta_y = goal[1] - start[1]\n",
    "    theta_radians = atan2(delta_y, delta_x)\n",
    "    a_x = cos(theta_radians)\n",
    "    a_y = sin(theta_radians)\n",
    "    return [a_x,a_y]\n",
    "    \n",
    "\n",
    "start = 0\n",
    "for t in np.where(dataset['timeouts']==1)[0]:\n",
    "    dataset_naive['actions'][start:t+1] = calc_action(dataset['infos/qpos'][start], dataset['infos/goal'][t])\n",
    "    start = t+1\n",
    "    \n",
    "    "
   ]
  },
  {
   "cell_type": "code",
   "execution_count": null,
   "id": "14567ba1",
   "metadata": {},
   "outputs": [],
   "source": [
    "dataset_naive['actions']"
   ]
  },
  {
   "cell_type": "code",
   "execution_count": null,
   "id": "bb0ba12f",
   "metadata": {},
   "outputs": [],
   "source": [
    "dims = [1, 2, 4, 8]\n",
    "list(zip(dims[:-1], dims[1:]))"
   ]
  },
  {
   "cell_type": "code",
   "execution_count": null,
   "id": "ca265efa",
   "metadata": {},
   "outputs": [],
   "source": [
    "dims[1:]"
   ]
  },
  {
   "cell_type": "code",
   "execution_count": 55,
   "id": "d9a9e79a",
   "metadata": {},
   "outputs": [],
   "source": [
    "def space_indices(num_steps, count):\n",
    "    assert count <= num_steps\n",
    "\n",
    "    if count <= 1:\n",
    "        frac_stride = 1\n",
    "    else:\n",
    "        frac_stride = (num_steps - 1) / (count - 1)\n",
    "\n",
    "    cur_idx = 0.0\n",
    "    taken_steps = []\n",
    "    for _ in range(count):\n",
    "        taken_steps.append(round(cur_idx))\n",
    "        cur_idx += frac_stride\n",
    "\n",
    "    return taken_steps"
   ]
  },
  {
   "cell_type": "code",
   "execution_count": 64,
   "id": "1189011d",
   "metadata": {},
   "outputs": [
    {
     "name": "stdout",
     "output_type": "stream",
     "text": [
      "[0, 20, 40, 59, 79]\n"
     ]
    }
   ],
   "source": [
    "steps = space_indices(100, 6)\n",
    "log_count = min(len(steps) - 1, 10)\n",
    "log_steps = [steps[i] for i in space_indices(len(steps) - 1, log_count)]\n",
    "print(log_steps)\n",
    "steps = steps[::-1]\n",
    "pair_steps = zip(steps[:-1], steps[1:])"
   ]
  },
  {
   "cell_type": "code",
   "execution_count": 65,
   "id": "fd452cd4",
   "metadata": {},
   "outputs": [
    {
     "data": {
      "text/plain": [
       "[(99, 79), (79, 59), (59, 40), (40, 20), (20, 0)]"
      ]
     },
     "execution_count": 65,
     "metadata": {},
     "output_type": "execute_result"
    }
   ],
   "source": [
    "l = list(pair_steps)\n",
    "l"
   ]
  },
  {
   "cell_type": "code",
   "execution_count": 21,
   "id": "5bd4aaee",
   "metadata": {},
   "outputs": [
    {
     "data": {
      "text/plain": [
       "(1000000, 2)"
      ]
     },
     "execution_count": 21,
     "metadata": {},
     "output_type": "execute_result"
    }
   ],
   "source": [
    "dataset['infos/qvel'].shape"
   ]
  },
  {
   "cell_type": "code",
   "execution_count": 26,
   "id": "b3ec1da5",
   "metadata": {},
   "outputs": [
    {
     "name": "stdout",
     "output_type": "stream",
     "text": [
      "[0.009810349, 0.02174424]\n"
     ]
    }
   ],
   "source": [
    "for x,y in dataset['infos/qvel']:\n",
    "    print([x, y])\n",
    "    break"
   ]
  },
  {
   "cell_type": "code",
   "execution_count": 31,
   "id": "b5ec0b7a",
   "metadata": {},
   "outputs": [],
   "source": [
    "t = [[dataset['infos/qvel'][i][0],dataset['infos/qvel'][i][1]] for i in range(0,10)]"
   ]
  },
  {
   "cell_type": "code",
   "execution_count": 36,
   "id": "3db06d20",
   "metadata": {},
   "outputs": [
    {
     "name": "stdout",
     "output_type": "stream",
     "text": [
      "0 0.009810349 0.02174424\n",
      "1 -0.12562364 -0.044337805\n",
      "2 -0.3634883 0.114539884\n",
      "3 -0.60078645 0.35243094\n",
      "4 -0.7363186 0.5897554\n",
      "5 -0.6869364 0.66904855\n",
      "6 -0.889375 0.90561897\n",
      "7 -1.0558199 1.141626\n",
      "8 -0.98625255 1.3770709\n",
      "9 -0.9110725 1.611955\n"
     ]
    }
   ],
   "source": [
    "for i, (x,y) in enumerate(t):\n",
    "    print(i, x, y)"
   ]
  },
  {
   "cell_type": "code",
   "execution_count": null,
   "id": "bb74c26e",
   "metadata": {},
   "outputs": [],
   "source": []
  }
 ],
 "metadata": {
  "kernelspec": {
   "display_name": "Python 3 (ipykernel)",
   "language": "python",
   "name": "python3"
  },
  "language_info": {
   "codemirror_mode": {
    "name": "ipython",
    "version": 3
   },
   "file_extension": ".py",
   "mimetype": "text/x-python",
   "name": "python",
   "nbconvert_exporter": "python",
   "pygments_lexer": "ipython3",
   "version": "3.8.18"
  }
 },
 "nbformat": 4,
 "nbformat_minor": 5
}
