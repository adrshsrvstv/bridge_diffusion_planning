{
 "cells": [
  {
   "cell_type": "code",
   "execution_count": 1,
   "id": "0e3961fb",
   "metadata": {},
   "outputs": [
    {
     "name": "stderr",
     "output_type": "stream",
     "text": [
      "/home/users/adarsh/anaconda3/envs/diffuser/lib/python3.8/site-packages/glfw/__init__.py:916: GLFWError: (65544) b'X11: The DISPLAY environment variable is missing'\n",
      "  warnings.warn(message, GLFWError)\n",
      "pybullet build time: May 20 2022 19:44:17\n"
     ]
    }
   ],
   "source": [
    "import d4rl\n",
    "import gym\n",
    "import numpy as np"
   ]
  },
  {
   "cell_type": "code",
   "execution_count": 2,
   "id": "91e84509",
   "metadata": {},
   "outputs": [
    {
     "name": "stderr",
     "output_type": "stream",
     "text": [
      "load datafile: 100%|████████████████████████████████████████████████████████████████████████████████████████████████████████████████████████████████████████████████████████████████████████████████████████████| 8/8 [00:00<00:00, 30.92it/s]\n"
     ]
    },
    {
     "data": {
      "text/plain": [
       "(array([    91,    144,    230, ..., 999592, 999702, 999868]),)"
      ]
     },
     "execution_count": 2,
     "metadata": {},
     "output_type": "execute_result"
    }
   ],
   "source": [
    "env = gym.make('maze2d-umaze-v1')\n",
    "dataset = env.get_dataset()\n",
    "np.where(dataset['timeouts']==1)"
   ]
  },
  {
   "cell_type": "code",
   "execution_count": null,
   "id": "97fef4bd",
   "metadata": {},
   "outputs": [],
   "source": [
    "env.unwrapped.goal_locations"
   ]
  },
  {
   "cell_type": "code",
   "execution_count": null,
   "id": "f95293eb",
   "metadata": {},
   "outputs": [],
   "source": [
    "env.state_vector()"
   ]
  },
  {
   "cell_type": "code",
   "execution_count": null,
   "id": "3554de16",
   "metadata": {},
   "outputs": [],
   "source": [
    "env.unwrapped.max_episode_steps = env._max_episode_steps\n",
    "env.unwrapped.max_episode_steps"
   ]
  },
  {
   "cell_type": "code",
   "execution_count": null,
   "id": "9557fdeb",
   "metadata": {},
   "outputs": [],
   "source": [
    "{k:v[0:10] for k,v in dataset.items()}"
   ]
  },
  {
   "cell_type": "code",
   "execution_count": null,
   "id": "7af60165",
   "metadata": {},
   "outputs": [],
   "source": [
    "{k:v[85:110] for k,v in dataset.items()}"
   ]
  },
  {
   "cell_type": "code",
   "execution_count": null,
   "id": "4dac2d01",
   "metadata": {},
   "outputs": [],
   "source": [
    "n=15\n",
    "print(dataset.keys())\n",
    "print(dataset['actions'][n])\n",
    "print(dataset['observations'][n])\n",
    "print(dataset['infos/qpos'][n])\n",
    "print(dataset['infos/qvel'][n])"
   ]
  },
  {
   "cell_type": "code",
   "execution_count": null,
   "id": "00dfaa9d",
   "metadata": {},
   "outputs": [],
   "source": [
    "np.where(dataset['timeouts']==1)[0]"
   ]
  },
  {
   "cell_type": "code",
   "execution_count": null,
   "id": "daf25369",
   "metadata": {},
   "outputs": [],
   "source": [
    "{k:v[0:93] for k,v in dataset_naive.items()}"
   ]
  },
  {
   "cell_type": "code",
   "execution_count": null,
   "id": "02311f47",
   "metadata": {},
   "outputs": [],
   "source": [
    "import copy\n",
    "from math import atan2, sin, cos, radians\n",
    "dataset_naive = copy.deepcopy(dataset)\n",
    "    \n",
    "\n",
    "def calc_action(start, goal):\n",
    "    delta_x = goal[0] - start[0]\n",
    "    delta_y = goal[1] - start[1]\n",
    "    theta_radians = atan2(delta_y, delta_x)\n",
    "    a_x = cos(theta_radians)\n",
    "    a_y = sin(theta_radians)\n",
    "    return [a_x,a_y]\n",
    "    \n",
    "\n",
    "start = 0\n",
    "for t in np.where(dataset['timeouts']==1)[0]:\n",
    "    dataset_naive['actions'][start:t+1] = calc_action(dataset['infos/qpos'][start], dataset['infos/goal'][t])\n",
    "    start = t+1\n",
    "    \n",
    "    "
   ]
  },
  {
   "cell_type": "code",
   "execution_count": null,
   "id": "14567ba1",
   "metadata": {},
   "outputs": [],
   "source": [
    "dataset_naive['actions']"
   ]
  },
  {
   "cell_type": "code",
   "execution_count": null,
   "id": "bb0ba12f",
   "metadata": {},
   "outputs": [],
   "source": [
    "dims = [1, 2, 4, 8]\n",
    "list(zip(dims[:-1], dims[1:]))"
   ]
  },
  {
   "cell_type": "code",
   "execution_count": null,
   "id": "ca265efa",
   "metadata": {},
   "outputs": [],
   "source": [
    "dims[1:]"
   ]
  },
  {
   "cell_type": "code",
   "execution_count": 8,
   "id": "76fc577f",
   "metadata": {},
   "outputs": [],
   "source": [
    "import gym\n",
    "import logging\n",
    "from d4rl.pointmaze import waypoint_controller\n",
    "from d4rl.pointmaze import maze_model\n",
    "import numpy as np\n",
    "import pickle\n",
    "import gzip\n",
    "import h5py\n",
    "import argparse\n",
    "\n",
    "\n",
    "def reset_data():\n",
    "    return {'observations': [],\n",
    "            'actions': [],\n",
    "            'terminals': [],\n",
    "            'rewards': [],\n",
    "            'infos/goal': [],\n",
    "            'infos/qpos': [],\n",
    "            'infos/qvel': [],\n",
    "            }\n",
    "\n",
    "def append_data(data, s, a, tgt, done, env_data):\n",
    "    data['observations'].append(s)\n",
    "    data['actions'].append(a)\n",
    "    data['rewards'].append(0.0)\n",
    "    data['terminals'].append(done)\n",
    "    data['infos/goal'].append(tgt)\n",
    "    data['infos/qpos'].append(env_data.qpos.ravel().copy())\n",
    "    data['infos/qvel'].append(env_data.qvel.ravel().copy())\n",
    "\n",
    "def npify(data):\n",
    "    for k in data:\n",
    "        if k == 'terminals':\n",
    "            dtype = np.bool_\n",
    "        else:\n",
    "            dtype = np.float32\n",
    "\n",
    "        data[k] = np.array(data[k], dtype=dtype)\n",
    "\n",
    "def main():\n",
    "    parser = argparse.ArgumentParser()\n",
    "    parser.add_argument('--render', action='store_true', help='Render trajectories')\n",
    "    parser.add_argument('--noisy', action='store_true', help='Noisy actions')\n",
    "    parser.add_argument('--env_name', type=str, default='maze2d-umaze-v1', help='Maze type')\n",
    "    parser.add_argument('--num_samples', type=int, default=int(1e6), help='Num samples to collect')\n",
    "    args = parser.parse_args()\n",
    "\n",
    "    env = gym.make(args.env_name)\n",
    "    maze = env.str_maze_spec\n",
    "    max_episode_steps = env._max_episode_steps\n",
    "\n",
    "    controller = waypoint_controller.WaypointController(maze)\n",
    "    env = maze_model.MazeEnv(maze)\n",
    "\n",
    "    env.set_target()\n",
    "    s = env.reset()\n",
    "    act = env.action_space.sample()\n",
    "    done = False\n",
    "\n",
    "    data = reset_data()\n",
    "    ts = 0\n",
    "    for _ in range(args.num_samples):\n",
    "        position = s[0:2]\n",
    "        velocity = s[2:4]\n",
    "        act, done = controller.get_action(position, velocity, env._target)\n",
    "        if args.noisy:\n",
    "            act = act + np.random.randn(*act.shape)*0.5\n",
    "\n",
    "        act = np.clip(act, -1.0, 1.0)\n",
    "        if ts >= max_episode_steps:\n",
    "            done = True\n",
    "        append_data(data, s, act, env._target, done, env.sim.data)\n",
    "\n",
    "        ns, _, _, _ = env.step(act)\n",
    "\n",
    "        if len(data['observations']) % 10000 == 0:\n",
    "            print(len(data['observations']))\n",
    "\n",
    "        ts += 1\n",
    "        if done:\n",
    "            env.set_target()\n",
    "            done = False\n",
    "            ts = 0\n",
    "        else:\n",
    "            s = ns\n",
    "\n",
    "        if args.render:\n",
    "            env.render()\n",
    "\n",
    "    \n",
    "    if args.noisy:\n",
    "        fname = '%s-noisy.hdf5' % args.env_name\n",
    "    else:\n",
    "        fname = '%s.hdf5' % args.env_name\n",
    "    dataset = h5py.File(fname, 'w')\n",
    "    npify(data)\n",
    "    for k in data:\n",
    "        dataset.create_dataset(k, data=data[k], compression='gzip')"
   ]
  },
  {
   "cell_type": "code",
   "execution_count": 17,
   "id": "1d23753b",
   "metadata": {},
   "outputs": [],
   "source": [
    "env = gym.make('maze2d-open-v0')\n",
    "maze = env.str_maze_spec\n",
    "max_episode_steps = env._max_episode_steps"
   ]
  },
  {
   "cell_type": "code",
   "execution_count": 18,
   "id": "a675446f",
   "metadata": {},
   "outputs": [],
   "source": [
    "controller = waypoint_controller.WaypointController(maze)\n",
    "env = maze_model.MazeEnv(maze)"
   ]
  },
  {
   "cell_type": "code",
   "execution_count": 20,
   "id": "ae1da102",
   "metadata": {},
   "outputs": [
    {
     "data": {
      "text/plain": [
       "<d4rl.pointmaze.maze_model.MazeEnv at 0x7fcc60248070>"
      ]
     },
     "execution_count": 20,
     "metadata": {},
     "output_type": "execute_result"
    }
   ],
   "source": [
    "env"
   ]
  },
  {
   "cell_type": "code",
   "execution_count": 55,
   "id": "d9a9e79a",
   "metadata": {},
   "outputs": [],
   "source": [
    "def space_indices(num_steps, count):\n",
    "    assert count <= num_steps\n",
    "\n",
    "    if count <= 1:\n",
    "        frac_stride = 1\n",
    "    else:\n",
    "        frac_stride = (num_steps - 1) / (count - 1)\n",
    "\n",
    "    cur_idx = 0.0\n",
    "    taken_steps = []\n",
    "    for _ in range(count):\n",
    "        taken_steps.append(round(cur_idx))\n",
    "        cur_idx += frac_stride\n",
    "\n",
    "    return taken_steps"
   ]
  },
  {
   "cell_type": "code",
   "execution_count": 64,
   "id": "1189011d",
   "metadata": {},
   "outputs": [
    {
     "name": "stdout",
     "output_type": "stream",
     "text": [
      "[0, 20, 40, 59, 79]\n"
     ]
    }
   ],
   "source": [
    "steps = space_indices(100, 6)\n",
    "log_count = min(len(steps) - 1, 10)\n",
    "log_steps = [steps[i] for i in space_indices(len(steps) - 1, log_count)]\n",
    "print(log_steps)\n",
    "steps = steps[::-1]\n",
    "pair_steps = zip(steps[:-1], steps[1:])"
   ]
  },
  {
   "cell_type": "code",
   "execution_count": 65,
   "id": "fd452cd4",
   "metadata": {},
   "outputs": [
    {
     "data": {
      "text/plain": [
       "[(99, 79), (79, 59), (59, 40), (40, 20), (20, 0)]"
      ]
     },
     "execution_count": 65,
     "metadata": {},
     "output_type": "execute_result"
    }
   ],
   "source": [
    "l = list(pair_steps)\n",
    "l"
   ]
  },
  {
   "cell_type": "code",
   "execution_count": null,
   "id": "5bd4aaee",
   "metadata": {},
   "outputs": [],
   "source": []
  }
 ],
 "metadata": {
  "kernelspec": {
   "display_name": "Python 3 (ipykernel)",
   "language": "python",
   "name": "python3"
  },
  "language_info": {
   "codemirror_mode": {
    "name": "ipython",
    "version": 3
   },
   "file_extension": ".py",
   "mimetype": "text/x-python",
   "name": "python",
   "nbconvert_exporter": "python",
   "pygments_lexer": "ipython3",
   "version": "3.8.18"
  }
 },
 "nbformat": 4,
 "nbformat_minor": 5
}
