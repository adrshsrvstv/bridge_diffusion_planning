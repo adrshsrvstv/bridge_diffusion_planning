{
 "cells": [
  {
   "cell_type": "code",
   "execution_count": 1,
   "id": "0e3961fb",
   "metadata": {},
   "outputs": [
    {
     "name": "stderr",
     "output_type": "stream",
     "text": [
      "/home/users/adarsh/anaconda3/envs/diffuser/lib/python3.8/site-packages/glfw/__init__.py:916: GLFWError: (65544) b'X11: The DISPLAY environment variable is missing'\n",
      "  warnings.warn(message, GLFWError)\n",
      "pybullet build time: May 20 2022 19:44:17\n"
     ]
    }
   ],
   "source": [
    "import d4rl\n",
    "import gym\n",
    "import numpy as np"
   ]
  },
  {
   "cell_type": "code",
   "execution_count": 2,
   "id": "91e84509",
   "metadata": {},
   "outputs": [
    {
     "name": "stderr",
     "output_type": "stream",
     "text": [
      "load datafile: 100%|█████████████████████████████████████████████████████████████████████████████████████████████████████████████████████| 8/8 [00:00<00:00, 29.71it/s]\n"
     ]
    },
    {
     "data": {
      "text/plain": [
       "(array([    91,    144,    230, ..., 999592, 999702, 999868]),)"
      ]
     },
     "execution_count": 2,
     "metadata": {},
     "output_type": "execute_result"
    }
   ],
   "source": [
    "env = gym.make('maze2d-umaze-v1')\n",
    "dataset = env.get_dataset()\n",
    "np.where(dataset['timeouts']==1)"
   ]
  },
  {
   "cell_type": "code",
   "execution_count": 8,
   "id": "97fef4bd",
   "metadata": {},
   "outputs": [
    {
     "data": {
      "text/plain": [
       "300"
      ]
     },
     "execution_count": 8,
     "metadata": {},
     "output_type": "execute_result"
    }
   ],
   "source": [
    "env._max_episode_steps"
   ]
  },
  {
   "cell_type": "code",
   "execution_count": 18,
   "id": "f95293eb",
   "metadata": {},
   "outputs": [
    {
     "data": {
      "text/plain": [
       "array([0.00043799, 0.00079652, 0.04379873, 0.07965174])"
      ]
     },
     "execution_count": 18,
     "metadata": {},
     "output_type": "execute_result"
    }
   ],
   "source": [
    "env.state_vector()"
   ]
  },
  {
   "cell_type": "code",
   "execution_count": 17,
   "id": "3554de16",
   "metadata": {},
   "outputs": [
    {
     "data": {
      "text/plain": [
       "300"
      ]
     },
     "execution_count": 17,
     "metadata": {},
     "output_type": "execute_result"
    }
   ],
   "source": [
    "env.unwrapped.max_episode_steps = env._max_episode_steps\n",
    "env.unwrapped.max_episode_steps"
   ]
  },
  {
   "cell_type": "code",
   "execution_count": null,
   "id": "7af60165",
   "metadata": {},
   "outputs": [],
   "source": [
    "{k:v[85:110] for k,v in dataset.items()}"
   ]
  },
  {
   "cell_type": "code",
   "execution_count": 3,
   "id": "9557fdeb",
   "metadata": {},
   "outputs": [
    {
     "data": {
      "text/plain": [
       "{'actions': array([[-0.56856084, -0.27724722],\n",
       "        [-1.        ,  0.6666507 ],\n",
       "        [-1.        ,  1.        ],\n",
       "        [-0.57507885,  1.        ],\n",
       "        [ 0.19998227,  0.3388329 ],\n",
       "        [-0.85686654,  1.        ],\n",
       "        [-0.70776117,  1.        ],\n",
       "        [ 0.2815406 ,  1.        ],\n",
       "        [ 0.3058027 ,  1.        ],\n",
       "        [-0.17358942,  1.        ]], dtype=float32),\n",
       " 'infos/goal': array([[3.036284, 3.022871],\n",
       "        [3.036284, 3.022871],\n",
       "        [3.036284, 3.022871],\n",
       "        [3.036284, 3.022871],\n",
       "        [3.036284, 3.022871],\n",
       "        [3.036284, 3.022871],\n",
       "        [3.036284, 3.022871],\n",
       "        [3.036284, 3.022871],\n",
       "        [3.036284, 3.022871],\n",
       "        [3.036284, 3.022871]], dtype=float32),\n",
       " 'infos/qpos': array([[1.0856489, 1.9745734],\n",
       "        [1.0843927, 1.97413  ],\n",
       "        [1.0807577, 1.9752754],\n",
       "        [1.0747498, 1.9787997],\n",
       "        [1.0673866, 1.9846972],\n",
       "        [1.0605173, 1.9913877],\n",
       "        [1.0516236, 2.000444 ],\n",
       "        [1.0410653, 2.0118601],\n",
       "        [1.0312028, 2.025631 ],\n",
       "        [1.0220921, 2.0417504]], dtype=float32),\n",
       " 'infos/qvel': array([[ 0.00981035,  0.02174424],\n",
       "        [-0.12562364, -0.04433781],\n",
       "        [-0.3634883 ,  0.11453988],\n",
       "        [-0.60078645,  0.35243094],\n",
       "        [-0.7363186 ,  0.5897554 ],\n",
       "        [-0.6869364 ,  0.66904855],\n",
       "        [-0.889375  ,  0.90561897],\n",
       "        [-1.0558199 ,  1.141626  ],\n",
       "        [-0.98625255,  1.3770709 ],\n",
       "        [-0.9110725 ,  1.611955  ]], dtype=float32),\n",
       " 'observations': array([[ 1.0856489 ,  1.9745734 ,  0.00981035,  0.02174424],\n",
       "        [ 1.0843927 ,  1.97413   , -0.12562364, -0.04433781],\n",
       "        [ 1.0807577 ,  1.9752754 , -0.3634883 ,  0.11453988],\n",
       "        [ 1.0747498 ,  1.9787997 , -0.60078645,  0.35243094],\n",
       "        [ 1.0673866 ,  1.9846972 , -0.7363186 ,  0.5897554 ],\n",
       "        [ 1.0605173 ,  1.9913877 , -0.6869364 ,  0.66904855],\n",
       "        [ 1.0516236 ,  2.000444  , -0.889375  ,  0.90561897],\n",
       "        [ 1.0410653 ,  2.0118601 , -1.0558199 ,  1.141626  ],\n",
       "        [ 1.0312028 ,  2.025631  , -0.98625255,  1.3770709 ],\n",
       "        [ 1.0220921 ,  2.0417504 , -0.9110725 ,  1.611955  ]],\n",
       "       dtype=float32),\n",
       " 'rewards': array([0., 0., 0., 0., 0., 0., 0., 0., 0., 0.], dtype=float32),\n",
       " 'terminals': array([False, False, False, False, False, False, False, False, False,\n",
       "        False]),\n",
       " 'timeouts': array([False, False, False, False, False, False, False, False, False,\n",
       "        False])}"
      ]
     },
     "execution_count": 3,
     "metadata": {},
     "output_type": "execute_result"
    }
   ],
   "source": [
    "{k:v[0:10] for k,v in dataset.items()}"
   ]
  },
  {
   "cell_type": "code",
   "execution_count": 4,
   "id": "4dac2d01",
   "metadata": {},
   "outputs": [
    {
     "name": "stdout",
     "output_type": "stream",
     "text": [
      "dict_keys(['actions', 'infos/goal', 'infos/qpos', 'infos/qvel', 'observations', 'rewards', 'terminals', 'timeouts'])\n",
      "[-0.6284441   0.09111674]\n",
      "[ 0.97895855  2.180523   -0.42206582  2.7247157 ]\n",
      "[0.97895855 2.180523  ]\n",
      "[-0.42206582  2.7247157 ]\n"
     ]
    }
   ],
   "source": [
    "n=15\n",
    "print(dataset.keys())\n",
    "print(dataset['actions'][n])\n",
    "print(dataset['observations'][n])\n",
    "print(dataset['infos/qpos'][n])\n",
    "print(dataset['infos/qvel'][n])"
   ]
  },
  {
   "cell_type": "code",
   "execution_count": 5,
   "id": "00dfaa9d",
   "metadata": {},
   "outputs": [
    {
     "data": {
      "text/plain": [
       "array([    91,    144,    230, ..., 999592, 999702, 999868])"
      ]
     },
     "execution_count": 5,
     "metadata": {},
     "output_type": "execute_result"
    }
   ],
   "source": [
    "np.where(dataset['timeouts']==1)[0]"
   ]
  },
  {
   "cell_type": "code",
   "execution_count": null,
   "id": "daf25369",
   "metadata": {},
   "outputs": [],
   "source": [
    "{k:v[0:93] for k,v in dataset_naive.items()}"
   ]
  },
  {
   "cell_type": "code",
   "execution_count": 6,
   "id": "02311f47",
   "metadata": {},
   "outputs": [],
   "source": [
    "import copy\n",
    "from math import atan2, sin, cos, radians\n",
    "dataset_naive = copy.deepcopy(dataset)\n",
    "    \n",
    "\n",
    "def calc_action(start, goal):\n",
    "    delta_x = goal[0] - start[0]\n",
    "    delta_y = goal[1] - start[1]\n",
    "    theta_radians = atan2(delta_y, delta_x)\n",
    "    a_x = cos(theta_radians)\n",
    "    a_y = sin(theta_radians)\n",
    "    return [a_x,a_y]\n",
    "    \n",
    "\n",
    "start = 0\n",
    "for t in np.where(dataset['timeouts']==1)[0]:\n",
    "    dataset_naive['actions'][start:t+1] = calc_action(dataset['infos/qpos'][start], dataset['infos/goal'][t])\n",
    "    start = t+1\n",
    "    \n",
    "    "
   ]
  },
  {
   "cell_type": "code",
   "execution_count": 7,
   "id": "14567ba1",
   "metadata": {},
   "outputs": [
    {
     "data": {
      "text/plain": [
       "array([[ 0.88085616,  0.473384  ],\n",
       "       [ 0.88085616,  0.473384  ],\n",
       "       [ 0.88085616,  0.473384  ],\n",
       "       ...,\n",
       "       [ 0.09495355, -0.12691994],\n",
       "       [ 1.        , -0.04909204],\n",
       "       [ 1.        , -1.        ]], dtype=float32)"
      ]
     },
     "execution_count": 7,
     "metadata": {},
     "output_type": "execute_result"
    }
   ],
   "source": [
    "dataset_naive['actions']"
   ]
  },
  {
   "cell_type": "code",
   "execution_count": null,
   "id": "bb0ba12f",
   "metadata": {},
   "outputs": [],
   "source": []
  }
 ],
 "metadata": {
  "kernelspec": {
   "display_name": "Python 3 (ipykernel)",
   "language": "python",
   "name": "python3"
  },
  "language_info": {
   "codemirror_mode": {
    "name": "ipython",
    "version": 3
   },
   "file_extension": ".py",
   "mimetype": "text/x-python",
   "name": "python",
   "nbconvert_exporter": "python",
   "pygments_lexer": "ipython3",
   "version": "3.8.18"
  }
 },
 "nbformat": 4,
 "nbformat_minor": 5
}
