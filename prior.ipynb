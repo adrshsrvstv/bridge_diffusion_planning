{
 "cells": [
  {
   "cell_type": "code",
   "execution_count": 1,
   "id": "7c33993b",
   "metadata": {},
   "outputs": [
    {
     "name": "stderr",
     "output_type": "stream",
     "text": [
      "/home/users/adarsh/anaconda3/envs/diffuser/lib/python3.8/site-packages/glfw/__init__.py:916: GLFWError: (65544) b'X11: The DISPLAY environment variable is missing'\n",
      "  warnings.warn(message, GLFWError)\n",
      "pybullet build time: May 20 2022 19:44:17\n",
      "load datafile: 100%|████████████████████████████████████████████████████████████████████████████████████████████████████████████████████████████████████████████████████████████████████████████████████████████| 8/8 [00:00<00:00, 31.38it/s]\n"
     ]
    }
   ],
   "source": [
    "import d4rl\n",
    "import gym\n",
    "import numpy as np\n",
    "from scipy.stats import norm\n",
    "\n",
    "env = gym.make('maze2d-umaze-v1')\n",
    "dataset = env.get_dataset()\n"
   ]
  },
  {
   "cell_type": "code",
   "execution_count": 2,
   "id": "4427d785",
   "metadata": {},
   "outputs": [],
   "source": [
    "t=[]\n",
    "max_t = t\n",
    "epsilon = 0.3\n",
    "\n",
    "for j, (x,y) in enumerate(dataset['infos/qvel']):\n",
    "    if len(t) == 0:\n",
    "        t.append([j,x,y])\n",
    "    else:\n",
    "        flag = 1\n",
    "        idx = -1\n",
    "        for i, (n,a,b) in enumerate(t):\n",
    "            if abs(x-a) <= epsilon and abs(y-b) <= epsilon:\n",
    "                continue\n",
    "            else:\n",
    "                flag = 0\n",
    "                idx = i \n",
    "                break\n",
    "        if flag:\n",
    "            t.append([j,x,y])\n",
    "        else:\n",
    "            if len(t) > len(max_t):\n",
    "                max_t = t\n",
    "            t = t[i+1:]"
   ]
  },
  {
   "cell_type": "code",
   "execution_count": 3,
   "id": "152ec5a5",
   "metadata": {},
   "outputs": [],
   "source": [
    "idxs = np.array(max_t).astype(int)[:,0]"
   ]
  },
  {
   "cell_type": "code",
   "execution_count": 4,
   "id": "8796db9c",
   "metadata": {},
   "outputs": [
    {
     "data": {
      "text/plain": [
       "{'actions': array([[ 0.47399944,  0.7377699 ],\n",
       "        [ 0.9628953 , -0.43183213],\n",
       "        [ 0.39009994,  0.46581778],\n",
       "        [ 0.66205287, -0.43900973],\n",
       "        [ 1.        , -0.05332825],\n",
       "        [ 1.        , -0.5726057 ],\n",
       "        [-0.03002625,  0.5529734 ],\n",
       "        [ 0.65565026,  0.2258165 ],\n",
       "        [-0.4390777 , -0.48349717]], dtype=float32),\n",
       " 'infos/goal': array([[2.9839995, 3.061838 ],\n",
       "        [2.9839995, 3.061838 ],\n",
       "        [2.9839995, 3.061838 ],\n",
       "        [2.9839995, 3.061838 ],\n",
       "        [2.9839995, 3.061838 ],\n",
       "        [2.9839995, 3.061838 ],\n",
       "        [2.9839995, 3.061838 ],\n",
       "        [2.9839995, 3.061838 ],\n",
       "        [2.9839995, 3.061838 ]], dtype=float32),\n",
       " 'infos/qpos': array([[2.1916683, 2.9929364],\n",
       "        [2.242678 , 2.9959104],\n",
       "        [2.2948523, 2.997849 ],\n",
       "        [2.345662 , 3.0008922],\n",
       "        [2.3971198, 3.0028827],\n",
       "        [2.4493823, 3.0047414],\n",
       "        [2.501645 , 3.0052319],\n",
       "        [2.5514543, 3.0070384],\n",
       "        [2.6027067, 3.0093782]], dtype=float32),\n",
       " 'infos/qvel': array([[5.0280924 , 0.12198358],\n",
       "        [5.100981  , 0.2974032 ],\n",
       "        [5.2174187 , 0.19384806],\n",
       "        [5.0809994 , 0.30432734],\n",
       "        [5.1457686 , 0.1990463 ],\n",
       "        [5.2262554 , 0.18587139],\n",
       "        [5.2262554 , 0.04905472],\n",
       "        [4.980941  , 0.18063615],\n",
       "        [5.12523   , 0.23398727]], dtype=float32),\n",
       " 'observations': array([[2.1916683 , 2.9929364 , 5.0280924 , 0.12198358],\n",
       "        [2.242678  , 2.9959104 , 5.100981  , 0.2974032 ],\n",
       "        [2.2948523 , 2.997849  , 5.2174187 , 0.19384806],\n",
       "        [2.345662  , 3.0008922 , 5.0809994 , 0.30432734],\n",
       "        [2.3971198 , 3.0028827 , 5.1457686 , 0.1990463 ],\n",
       "        [2.4493823 , 3.0047414 , 5.2262554 , 0.18587139],\n",
       "        [2.501645  , 3.0052319 , 5.2262554 , 0.04905472],\n",
       "        [2.5514543 , 3.0070384 , 4.980941  , 0.18063615],\n",
       "        [2.6027067 , 3.0093782 , 5.12523   , 0.23398727]], dtype=float32),\n",
       " 'rewards': array([0., 0., 0., 0., 0., 0., 0., 0., 0.], dtype=float32),\n",
       " 'terminals': array([False, False, False, False, False, False, False, False, False]),\n",
       " 'timeouts': array([False, False, False, False, False, False, False, False, False])}"
      ]
     },
     "execution_count": 4,
     "metadata": {},
     "output_type": "execute_result"
    }
   ],
   "source": [
    "{k:v[idxs] for k,v in dataset.items()}"
   ]
  },
  {
   "cell_type": "code",
   "execution_count": 19,
   "id": "0a4d2e98",
   "metadata": {},
   "outputs": [],
   "source": [
    "import numpy as np\n",
    "import scipy.stats\n",
    "import torch\n",
    "from scipy.stats import norm\n",
    "\n",
    "class BasePrior:\n",
    "    def __init__(self, transition_dim, horizon):\n",
    "        super().__init__()\n",
    "        self.transition_dim = transition_dim\n",
    "        self.horizon = horizon\n",
    "\n",
    "    def __call__(self, cond, device):\n",
    "        batch_size = len(cond[0])\n",
    "        shape = (batch_size, self.horizon, self.transition_dim)\n",
    "        x = torch.randn(shape, device=device, dtype=torch.float32)\n",
    "        return x\n",
    "\n",
    "\n",
    "class Maze2DGoalPrior(BasePrior):\n",
    "    def __init__(self, transition_dim, horizon):\n",
    "        super().__init__(transition_dim, horizon)\n",
    "        nd = np.array([norm.pdf(x, (horizon + 1)/2, horizon/6) for x in np.linspace(1, horizon, horizon)]).reshape((horizon, 1))\n",
    "        self.normal_distribution = (nd - nd.min()) / nd.max()\n",
    "\n",
    "    def __call__(self, cond):\n",
    "        batch_size = len(cond[0])\n",
    "        shape = (batch_size, self.horizon, self.transition_dim)\n",
    "        start, goal = cond[0].detach().cpu().numpy(), cond[self.horizon-1].detach().cpu().numpy()\n",
    "\n",
    "        actions, _ = self.get_action(start, goal)\n",
    "        qpos = self.get_qpos(start, goal)\n",
    "        qvel = self.get_qvel(start, goal)\n",
    "        trajectory = np.concatenate((actions, qpos, qvel), axis=2)\n",
    "#         x1 = torch.tensor(trajectory, device=device, dtype=torch.float32)\n",
    "#         assert x1.shape == shape\n",
    "        return trajectory\n",
    "\n",
    "    def get_action(self, start, goal):\n",
    "        delta = goal - start\n",
    "        slope_rads = np.arctan2(delta[:, 1], delta[:, 0])\n",
    "        action = np.column_stack((np.cos(slope_rads), np.sin(slope_rads)))\n",
    "        action_normed = action / np.abs(action).max(axis=1)[:, np.newaxis]\n",
    "        actions = np.repeat(action_normed[:, np.newaxis, :], self.horizon, axis=1)\n",
    "        return actions, action_normed\n",
    "\n",
    "    def get_qpos(self, start, goal):\n",
    "        delta = (goal - start)/(self.horizon-1)\n",
    "        return np.array([[s[:2] + i*d[:2] for i in range(0,self.horizon)] for d, s in zip(delta,start)], dtype=np.float32)\n",
    "\n",
    "    def get_qvel(self, start, goal):\n",
    "        mag = 100 * (goal - start) / (self.horizon - 1)\n",
    "        _, action_normed = self.get_action(start, goal)\n",
    "        qvel = mag[:, :2] * action_normed\n",
    "        qvels = np.repeat(qvel[:, np.newaxis, :], self.horizon, axis=1)\n",
    "        qvels = np.array([qvels[i]*self.normal_distribution for i in range(0,len(qvels))])\n",
    "        return qvels\n",
    "\n"
   ]
  },
  {
   "cell_type": "code",
   "execution_count": 34,
   "id": "d6b9be0f",
   "metadata": {},
   "outputs": [],
   "source": [
    "horizon = 15\n",
    "batch_size = 7\n",
    "\n",
    "start = np.random.rand(batch_size, 4)\n",
    "goal = np.random.rand(batch_size, 4)\n",
    "prior = Maze2DGoalPrior(6, horizon)\n",
    "\n",
    "cond = {}\n",
    "cond[0] = torch.tensor([[3,2,0,0]])\n",
    "cond[horizon-1] = torch.tensor([[1,1,0,0]])"
   ]
  },
  {
   "cell_type": "code",
   "execution_count": 40,
   "id": "0f80e335",
   "metadata": {},
   "outputs": [
    {
     "name": "stdout",
     "output_type": "stream",
     "text": [
      "[[[ 0.          0.        ]\n",
      "  [ 0.51848097  0.12962024]\n",
      "  [ 1.64991698  0.41247924]\n",
      "  [ 3.68851722  0.92212931]\n",
      "  [ 6.67015945  1.66753986]\n",
      "  [10.09011346  2.52252837]\n",
      "  [12.90393217  3.22598304]\n",
      "  [14.00227008  3.50056752]\n",
      "  [12.90393217  3.22598304]\n",
      "  [10.09011346  2.52252837]\n",
      "  [ 6.67015945  1.66753986]\n",
      "  [ 3.68851722  0.92212931]\n",
      "  [ 1.64991698  0.41247924]\n",
      "  [ 0.51848097  0.12962024]\n",
      "  [ 0.          0.        ]]]\n"
     ]
    }
   ],
   "source": [
    "print(prior(cond)[:,:,4:])"
   ]
  },
  {
   "cell_type": "code",
   "execution_count": 14,
   "id": "e99fafbb",
   "metadata": {},
   "outputs": [],
   "source": [
    "start, goal = cond[0].detach().cpu().numpy(), cond[horizon-1].detach().cpu().numpy()"
   ]
  },
  {
   "cell_type": "code",
   "execution_count": 15,
   "id": "ad84d3c6",
   "metadata": {},
   "outputs": [
    {
     "data": {
      "text/plain": [
       "array([ 5, 15,  0,  0])"
      ]
     },
     "execution_count": 15,
     "metadata": {},
     "output_type": "execute_result"
    }
   ],
   "source": [
    "start"
   ]
  },
  {
   "cell_type": "code",
   "execution_count": 16,
   "id": "0059b7ed",
   "metadata": {},
   "outputs": [
    {
     "data": {
      "text/plain": [
       "array([1, 1, 0, 0])"
      ]
     },
     "execution_count": 16,
     "metadata": {},
     "output_type": "execute_result"
    }
   ],
   "source": [
    "goal"
   ]
  },
  {
   "cell_type": "code",
   "execution_count": null,
   "id": "24d2d9f8",
   "metadata": {},
   "outputs": [],
   "source": []
  }
 ],
 "metadata": {
  "kernelspec": {
   "display_name": "Python 3 (ipykernel)",
   "language": "python",
   "name": "python3"
  },
  "language_info": {
   "codemirror_mode": {
    "name": "ipython",
    "version": 3
   },
   "file_extension": ".py",
   "mimetype": "text/x-python",
   "name": "python",
   "nbconvert_exporter": "python",
   "pygments_lexer": "ipython3",
   "version": "3.8.18"
  }
 },
 "nbformat": 4,
 "nbformat_minor": 5
}
