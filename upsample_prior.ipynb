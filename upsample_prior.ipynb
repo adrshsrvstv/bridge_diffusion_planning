{
 "cells": [
  {
   "cell_type": "code",
   "execution_count": 9,
   "id": "7c49e2ad",
   "metadata": {},
   "outputs": [],
   "source": [
    "import math\n",
    "import numpy as np\n",
    "import torch\n",
    "import torch.nn as nn\n",
    "import torch.nn.functional as F\n",
    "import einops\n",
    "from einops.layers.torch import Rearrange"
   ]
  },
  {
   "cell_type": "code",
   "execution_count": 10,
   "id": "0aaf0ced",
   "metadata": {},
   "outputs": [],
   "source": [
    "n_times_two = (4, 2, 1)\n",
    "n_plus_one = (4, 1, 1)\n",
    "n_minus_one = (4, 1, 2)\n",
    "n_plus_three = (4, 1, 0)\n",
    "n_plus_one_times_two = (4, 2, 0)\n",
    "\n",
    "\n",
    "class UpsampleBlock(nn.Module):\n",
    "    def __init__(self, inp_channels, out_channels, upsample_args=n_times_two, kernel_size=5):\n",
    "        super().__init__()\n",
    "\n",
    "        self.block = nn.Sequential(\n",
    "            nn.Conv1d(inp_channels, out_channels, kernel_size, padding=kernel_size // 2),\n",
    "            nn.GroupNorm(1, out_channels),\n",
    "            nn.Mish(),\n",
    "            nn.Conv1d(out_channels, out_channels, kernel_size, padding=kernel_size // 2),\n",
    "            nn.GroupNorm(1, out_channels),\n",
    "            nn.Mish(),\n",
    "            nn.ConvTranspose1d(out_channels, out_channels, *upsample_args)\n",
    "        )\n",
    "\n",
    "    def forward(self, x):\n",
    "        return self.block(x)\n",
    "\n",
    "class LearnedTrajectoryPrior(nn.Module):\n",
    "    def __init__(self, action_dim, observation_dim, horizon):\n",
    "        super().__init__()\n",
    "        self.register_buffer('transition_dim', torch.tensor(observation_dim + action_dim))\n",
    "        self.register_buffer('horizon', torch.tensor(horizon))\n",
    "        self.register_buffer('action_dim', torch.tensor(action_dim))\n",
    "        self.blocks = nn.ModuleList([])\n",
    "\n",
    "        upsample_args, residual_horizon = self.get_starting_blocks(horizon)\n",
    "        self.blocks.extend([UpsampleBlock(self.transition_dim, self.transition_dim, arg) for arg in upsample_args])\n",
    "\n",
    "        number_of_2X_blocks = math.log2(residual_horizon)\n",
    "        assert number_of_2X_blocks == number_of_2X_blocks // 1\n",
    "\n",
    "        self.blocks.extend([UpsampleBlock(self.transition_dim, self.transition_dim, n_times_two) for i in\n",
    "                            range(int(number_of_2X_blocks))])\n",
    "\n",
    "    def get_starting_blocks(self, horizon):\n",
    "        if horizon % 15 == 0:\n",
    "            start_blocks, residual_horizon = [n_plus_three, n_plus_one_times_two, n_plus_three], horizon / 15\n",
    "        elif horizon % 5 == 0:\n",
    "            start_blocks, residual_horizon = [n_plus_three], horizon / 5\n",
    "        elif horizon % 3 == 0:\n",
    "            start_blocks, residual_horizon = [n_plus_one], horizon / 3\n",
    "        else:\n",
    "            start_blocks, residual_horizon = [], horizon / 2\n",
    "        return start_blocks, residual_horizon\n",
    "\n",
    "    def forward(self, cond):\n",
    "        device = cond[0].device\n",
    "        actions = torch.zeros(cond[0].shape[0], self.action_dim, device=device)\n",
    "        trajectory_start = torch.cat((actions, cond[0]), 1)\n",
    "        trajectory_end = torch.cat((actions, cond[self.horizon.item() - 1]), 1)\n",
    "\n",
    "        trajectory_start = einops.rearrange(trajectory_start, 'b t -> b 1 t')\n",
    "        trajectory_end = einops.rearrange(trajectory_end, 'b t -> b 1 t')\n",
    "\n",
    "        x = torch.cat((trajectory_start, trajectory_end), 1)\n",
    "\n",
    "        x = einops.rearrange(x, 'b h t -> b t h')\n",
    "\n",
    "        for block in self.blocks:\n",
    "            x = block(x)\n",
    "\n",
    "        x = einops.rearrange(x, 'b t h -> b h t')\n",
    "        return x\n"
   ]
  },
  {
   "cell_type": "code",
   "execution_count": 15,
   "id": "d63aa31e",
   "metadata": {},
   "outputs": [
    {
     "name": "stdout",
     "output_type": "stream",
     "text": [
      "{0: tensor([[0., 0.]]), 11: tensor([[0., 0.]])}\n"
     ]
    }
   ],
   "source": [
    "action_dim = 2\n",
    "obs_dim = 2\n",
    "t_dim = action_dim + obs_dim\n",
    "\n",
    "batch_size = 1\n",
    "horizon = 12\n",
    "\n",
    "cond = {}\n",
    "cond[0] = torch.zeros((batch_size, obs_dim))\n",
    "cond[horizon-1] = torch.zeros((batch_size, obs_dim))\n",
    "print(cond)"
   ]
  },
  {
   "cell_type": "code",
   "execution_count": 27,
   "id": "7bf473c5",
   "metadata": {},
   "outputs": [
    {
     "data": {
      "text/plain": [
       "tensor([[[-0.4386,  0.2232, -0.4104,  0.1377],\n",
       "         [-0.6210, -0.0595, -0.5796, -0.1607],\n",
       "         [-0.1972, -0.1105, -0.4292,  0.0963],\n",
       "         [-0.2311,  0.1960,  0.4103,  0.0153],\n",
       "         [-0.3052,  0.2257, -0.5012,  0.0528],\n",
       "         [-0.5672, -0.1388, -0.1228, -0.2821],\n",
       "         [-0.7540, -0.2090, -0.6686,  0.1961],\n",
       "         [-1.1134, -0.2460, -0.1282, -0.1065],\n",
       "         [-0.4984,  0.2687, -0.3601, -0.5382],\n",
       "         [-0.5785, -0.0809,  0.1140, -0.2211],\n",
       "         [-0.6047,  0.0213, -0.4181,  0.0433],\n",
       "         [-0.6867, -0.1780, -0.0868,  0.0670]]],\n",
       "       grad_fn=<ReshapeAliasBackward0>)"
      ]
     },
     "execution_count": 27,
     "metadata": {},
     "output_type": "execute_result"
    }
   ],
   "source": [
    "prior = LearnedTrajectoryPrior(action_dim, obs_dim, horizon)\n",
    "prior(cond)"
   ]
  },
  {
   "cell_type": "code",
   "execution_count": null,
   "id": "b478107d",
   "metadata": {},
   "outputs": [],
   "source": [
    "def count_parameters(model):\n",
    "    return sum(p.numel() for p in model.parameters())\n",
    "\n",
    "count_parameters(prior)"
   ]
  },
  {
   "cell_type": "code",
   "execution_count": null,
   "id": "035c99bd",
   "metadata": {},
   "outputs": [],
   "source": [
    "torch.cat((cond[0], cond[self.horizon.item() - 1]), 1)"
   ]
  },
  {
   "cell_type": "code",
   "execution_count": null,
   "id": "4ede869f",
   "metadata": {},
   "outputs": [],
   "source": [
    "actions = torch.zeros(cond[0].shape[0],2)\n",
    "trajectory_start = torch.cat((actions,cond[0]), 1)[:, :, None]\n",
    "trajectory_end = torch.cat((actions,cond[self.horizon.item() - 1]), 1)[:, :, None]\n",
    "\n",
    "trajectory_start = einops.rearrange(trajectory_start, 'b t -> b 1 t')\n",
    "trajectory_end = einops.rearrange(trajectory_end, 'b t -> b 1 t')\n",
    "\n",
    "x = torch.cat((trajectory_start,trajectory_end), 1)\n",
    "\n",
    "x = einops.rearrange(x, 'b h t -> b t h')\n"
   ]
  },
  {
   "cell_type": "code",
   "execution_count": null,
   "id": "6735f614",
   "metadata": {},
   "outputs": [],
   "source": [
    "batch_size = 10\n",
    "a = torch.rand(batch_size,4)\n",
    "b = torch.rand(batch_size,4)\n",
    "z = torch.zeros(batch_size,2)\n",
    "print(a.shape, b.shape,  z.shape)\n",
    "a"
   ]
  },
  {
   "cell_type": "code",
   "execution_count": null,
   "id": "aa5e34c1",
   "metadata": {},
   "outputs": [],
   "source": [
    "o1 = torch.cat((z,a), 1)\n",
    "o2 = torch.cat((z,b), 1)\n",
    "o1.shape, o2.shape"
   ]
  },
  {
   "cell_type": "code",
   "execution_count": null,
   "id": "fa3601d2",
   "metadata": {},
   "outputs": [],
   "source": [
    "n1 = einops.rearrange(o1, 'b t -> b 1 t')\n",
    "n2 = einops.rearrange(o2, 'b t -> b 1 t')\n",
    "n1.shape, n2.shape"
   ]
  },
  {
   "cell_type": "code",
   "execution_count": null,
   "id": "723a1e5e",
   "metadata": {},
   "outputs": [],
   "source": [
    "n1[0][0]"
   ]
  },
  {
   "cell_type": "code",
   "execution_count": null,
   "id": "8ba07dce",
   "metadata": {},
   "outputs": [],
   "source": [
    "x = torch.cat((n1,n2), 1)\n",
    "x.shape"
   ]
  },
  {
   "cell_type": "code",
   "execution_count": null,
   "id": "c2a22b74",
   "metadata": {},
   "outputs": [],
   "source": [
    "ans = einops.rearrange(x, 'b h t -> b t h')"
   ]
  },
  {
   "cell_type": "code",
   "execution_count": null,
   "id": "ac96a7d0",
   "metadata": {},
   "outputs": [],
   "source": [
    "ans.shape"
   ]
  },
  {
   "cell_type": "code",
   "execution_count": null,
   "id": "790201c5",
   "metadata": {},
   "outputs": [],
   "source": [
    "x[0][1]"
   ]
  },
  {
   "cell_type": "code",
   "execution_count": null,
   "id": "5fcf8ea5",
   "metadata": {},
   "outputs": [],
   "source": [
    "ans[0,:,1]"
   ]
  },
  {
   "cell_type": "code",
   "execution_count": null,
   "id": "44745965",
   "metadata": {},
   "outputs": [],
   "source": []
  }
 ],
 "metadata": {
  "kernelspec": {
   "display_name": "Python 3 (ipykernel)",
   "language": "python",
   "name": "python3"
  },
  "language_info": {
   "codemirror_mode": {
    "name": "ipython",
    "version": 3
   },
   "file_extension": ".py",
   "mimetype": "text/x-python",
   "name": "python",
   "nbconvert_exporter": "python",
   "pygments_lexer": "ipython3",
   "version": "3.8.19"
  }
 },
 "nbformat": 4,
 "nbformat_minor": 5
}
