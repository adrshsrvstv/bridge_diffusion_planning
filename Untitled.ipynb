{
 "cells": [
  {
   "cell_type": "code",
   "execution_count": 1,
   "id": "276405ab",
   "metadata": {},
   "outputs": [
    {
     "name": "stderr",
     "output_type": "stream",
     "text": [
      "/home/users/adarsh/anaconda3/envs/diffuser/lib/python3.8/site-packages/glfw/__init__.py:916: GLFWError: (65544) b'X11: The DISPLAY environment variable is missing'\n",
      "  warnings.warn(message, GLFWError)\n",
      "pybullet build time: May 20 2022 19:44:17\n"
     ]
    }
   ],
   "source": [
    "import d4rl\n",
    "import gym\n",
    "import numpy as np\n",
    "import random"
   ]
  },
  {
   "cell_type": "code",
   "execution_count": 2,
   "id": "d031145c",
   "metadata": {},
   "outputs": [
    {
     "name": "stderr",
     "output_type": "stream",
     "text": [
      "/home/users/adarsh/anaconda3/envs/diffuser/lib/python3.8/site-packages/gym/logger.py:30: UserWarning: \u001b[33mWARN: Box bound precision lowered by casting to float32\u001b[0m\n",
      "  warnings.warn(colorize('%s: %s'%('WARN', msg % args), 'yellow'))\n"
     ]
    },
    {
     "name": "stdout",
     "output_type": "stream",
     "text": [
      "Downloading dataset: http://rail.eecs.berkeley.edu/datasets/offline_rl/gym_mujoco_v2/halfcheetah_random-v2.hdf5 to /home/users/adarsh/.d4rl/datasets/halfcheetah_random-v2.hdf5\n"
     ]
    },
    {
     "name": "stderr",
     "output_type": "stream",
     "text": [
      "load datafile: 100%|█████████████████████████████████████████████████████████████████████| 9/9 [00:01<00:00,  5.86it/s]\n"
     ]
    }
   ],
   "source": [
    "env = gym.make('halfcheetah-random-v2')\n",
    "halfcheetah = env.get_dataset()"
   ]
  },
  {
   "cell_type": "code",
   "execution_count": 3,
   "id": "f470ede1",
   "metadata": {},
   "outputs": [
    {
     "data": {
      "text/plain": [
       "{'actions': (1000000, 6),\n",
       " 'infos/action_log_probs': (1000000,),\n",
       " 'infos/qpos': (1000000, 9),\n",
       " 'infos/qvel': (1000000, 9),\n",
       " 'next_observations': (1000000, 17),\n",
       " 'observations': (1000000, 17),\n",
       " 'rewards': (1000000,),\n",
       " 'terminals': (1000000,),\n",
       " 'timeouts': (1000000,)}"
      ]
     },
     "execution_count": 3,
     "metadata": {},
     "output_type": "execute_result"
    }
   ],
   "source": [
    "{k:v.shape for k,v in halfcheetah.items()}"
   ]
  },
  {
   "cell_type": "code",
   "execution_count": 4,
   "id": "8e514984",
   "metadata": {},
   "outputs": [
    {
     "name": "stdout",
     "output_type": "stream",
     "text": [
      "Downloading dataset: http://rail.eecs.berkeley.edu/datasets/offline_rl/gym_mujoco_v2/walker2d_medium_expert-v2.hdf5 to /home/users/adarsh/.d4rl/datasets/walker2d_medium_expert-v2.hdf5\n"
     ]
    },
    {
     "name": "stderr",
     "output_type": "stream",
     "text": [
      "load datafile: 100%|█████████████████████████████████████████████████████████████████████| 9/9 [00:03<00:00,  2.99it/s]\n"
     ]
    },
    {
     "data": {
      "text/plain": [
       "{'actions': (1999995, 6),\n",
       " 'infos/action_log_probs': (1999995,),\n",
       " 'infos/qpos': (1999995, 9),\n",
       " 'infos/qvel': (1999995, 9),\n",
       " 'next_observations': (1999995, 17),\n",
       " 'observations': (1999995, 17),\n",
       " 'rewards': (1999995,),\n",
       " 'terminals': (1999995,),\n",
       " 'timeouts': (1999995,)}"
      ]
     },
     "execution_count": 4,
     "metadata": {},
     "output_type": "execute_result"
    }
   ],
   "source": [
    "env = gym.make('walker2d-medium-expert-v2')\n",
    "walker2d = env.get_dataset()\n",
    "{k:v.shape for k,v in walker2d.items()}"
   ]
  },
  {
   "cell_type": "code",
   "execution_count": 5,
   "id": "3e903572",
   "metadata": {},
   "outputs": [
    {
     "name": "stdout",
     "output_type": "stream",
     "text": [
      "Downloading dataset: http://rail.eecs.berkeley.edu/datasets/offline_rl/gym_mujoco_v2/hopper_medium_expert-v2.hdf5 to /home/users/adarsh/.d4rl/datasets/hopper_medium_expert-v2.hdf5\n"
     ]
    },
    {
     "name": "stderr",
     "output_type": "stream",
     "text": [
      "load datafile: 100%|█████████████████████████████████████████████████████████████████████| 9/9 [00:01<00:00,  4.56it/s]\n"
     ]
    },
    {
     "data": {
      "text/plain": [
       "{'actions': (1999906, 3),\n",
       " 'infos/action_log_probs': (1999906,),\n",
       " 'infos/qpos': (1999906, 6),\n",
       " 'infos/qvel': (1999906, 6),\n",
       " 'next_observations': (1999906, 11),\n",
       " 'observations': (1999906, 11),\n",
       " 'rewards': (1999906,),\n",
       " 'terminals': (1999906,),\n",
       " 'timeouts': (1999906,)}"
      ]
     },
     "execution_count": 5,
     "metadata": {},
     "output_type": "execute_result"
    }
   ],
   "source": [
    "env = gym.make('hopper-medium-expert-v2')\n",
    "hopper = env.get_dataset()\n",
    "{k:v.shape for k,v in hopper.items()}"
   ]
  },
  {
   "cell_type": "code",
   "execution_count": 6,
   "id": "de7ea6b6",
   "metadata": {},
   "outputs": [
    {
     "name": "stdout",
     "output_type": "stream",
     "text": [
      "Downloading dataset: http://rail.eecs.berkeley.edu/datasets/offline_rl/gym_mujoco_v2/ant_medium_expert-v2.hdf5 to /home/users/adarsh/.d4rl/datasets/ant_medium_expert-v2.hdf5\n"
     ]
    },
    {
     "name": "stderr",
     "output_type": "stream",
     "text": [
      "load datafile: 100%|█████████████████████████████████████████████████████████████████████| 9/9 [00:08<00:00,  1.10it/s]\n"
     ]
    },
    {
     "data": {
      "text/plain": [
       "{'actions': (1999946, 8),\n",
       " 'infos/action_log_probs': (1999946,),\n",
       " 'infos/qpos': (1999946, 15),\n",
       " 'infos/qvel': (1999946, 14),\n",
       " 'next_observations': (1999946, 111),\n",
       " 'observations': (1999946, 111),\n",
       " 'rewards': (1999946,),\n",
       " 'terminals': (1999946,),\n",
       " 'timeouts': (1999946,)}"
      ]
     },
     "execution_count": 6,
     "metadata": {},
     "output_type": "execute_result"
    }
   ],
   "source": [
    "env = gym.make('ant-medium-expert-v2')\n",
    "ant = env.get_dataset()\n",
    "{k:v.shape for k,v in ant.items()}"
   ]
  },
  {
   "cell_type": "code",
   "execution_count": 8,
   "id": "31db32d9",
   "metadata": {},
   "outputs": [
    {
     "data": {
      "text/plain": [
       "3.6666666666666665"
      ]
     },
     "execution_count": 8,
     "metadata": {},
     "output_type": "execute_result"
    }
   ],
   "source": [
    "a = [2,4,5]\n",
    "import numpy as np\n",
    "np.array(a).mean()"
   ]
  },
  {
   "cell_type": "code",
   "execution_count": 9,
   "id": "98d25d49",
   "metadata": {},
   "outputs": [
    {
     "data": {
      "text/plain": [
       "array([2, 4, 5])"
      ]
     },
     "execution_count": 9,
     "metadata": {},
     "output_type": "execute_result"
    }
   ],
   "source": [
    "np.array(a)"
   ]
  },
  {
   "cell_type": "code",
   "execution_count": 10,
   "id": "edf66ba5",
   "metadata": {},
   "outputs": [
    {
     "data": {
      "text/plain": [
       "1.247219128924647"
      ]
     },
     "execution_count": 10,
     "metadata": {},
     "output_type": "execute_result"
    }
   ],
   "source": [
    "np.array(a).std()"
   ]
  },
  {
   "cell_type": "code",
   "execution_count": 13,
   "id": "34afe8df",
   "metadata": {},
   "outputs": [
    {
     "name": "stdout",
     "output_type": "stream",
     "text": [
      "Collecting x-magical\n",
      "  Downloading x_magical-0.0.4-py3-none-any.whl (41 kB)\n",
      "\u001b[2K     \u001b[90m━━━━━━━━━━━━━━━━━━━━━━━━━━━━━━━━━━━━━━━━\u001b[0m \u001b[32m41.4/41.4 kB\u001b[0m \u001b[31m8.6 MB/s\u001b[0m eta \u001b[36m0:00:00\u001b[0m\n",
      "\u001b[?25hRequirement already satisfied: absl-py in /home/users/adarsh/anaconda3/envs/diffuser/lib/python3.8/site-packages (from x-magical) (2.0.0)\n",
      "Requirement already satisfied: gym in /home/users/adarsh/anaconda3/envs/diffuser/lib/python3.8/site-packages (from x-magical) (0.18.0)\n",
      "Requirement already satisfied: numpy in /home/users/adarsh/anaconda3/envs/diffuser/lib/python3.8/site-packages (from x-magical) (1.23.5)\n",
      "Requirement already satisfied: pygame in /home/users/adarsh/anaconda3/envs/diffuser/lib/python3.8/site-packages (from x-magical) (2.5.2)\n",
      "Requirement already satisfied: pyglet in /home/users/adarsh/anaconda3/envs/diffuser/lib/python3.8/site-packages (from x-magical) (1.5.0)\n",
      "Collecting pymunk~=5.6.0 (from x-magical)\n",
      "  Downloading pymunk-5.6.0-py2.py3-none-manylinux1_x86_64.whl (535 kB)\n",
      "\u001b[2K     \u001b[90m━━━━━━━━━━━━━━━━━━━━━━━━━━━━━━━━━━━━━━\u001b[0m \u001b[32m535.6/535.6 kB\u001b[0m \u001b[31m11.9 MB/s\u001b[0m eta \u001b[36m0:00:00\u001b[0ma \u001b[36m0:00:01\u001b[0m\n",
      "\u001b[?25hRequirement already satisfied: Pillow in /home/users/adarsh/anaconda3/envs/diffuser/lib/python3.8/site-packages (from x-magical) (10.1.0)\n",
      "Requirement already satisfied: cffi!=1.13.1 in /home/users/adarsh/anaconda3/envs/diffuser/lib/python3.8/site-packages (from pymunk~=5.6.0->x-magical) (1.15.1)\n",
      "Requirement already satisfied: scipy in /home/users/adarsh/anaconda3/envs/diffuser/lib/python3.8/site-packages (from gym->x-magical) (1.10.1)\n",
      "Collecting Pillow (from x-magical)\n",
      "  Using cached Pillow-7.2.0-cp38-cp38-manylinux1_x86_64.whl (2.2 MB)\n",
      "Requirement already satisfied: cloudpickle<1.7.0,>=1.2.0 in /home/users/adarsh/anaconda3/envs/diffuser/lib/python3.8/site-packages (from gym->x-magical) (1.6.0)\n",
      "Requirement already satisfied: future in /home/users/adarsh/anaconda3/envs/diffuser/lib/python3.8/site-packages (from pyglet->x-magical) (0.18.3)\n",
      "Requirement already satisfied: pycparser in /home/users/adarsh/anaconda3/envs/diffuser/lib/python3.8/site-packages (from cffi!=1.13.1->pymunk~=5.6.0->x-magical) (2.21)\n",
      "Installing collected packages: Pillow, pymunk, x-magical\n",
      "  Attempting uninstall: Pillow\n",
      "    Found existing installation: Pillow 10.1.0\n",
      "    Uninstalling Pillow-10.1.0:\n",
      "      Successfully uninstalled Pillow-10.1.0\n",
      "\u001b[31mERROR: pip's dependency resolver does not currently take into account all the packages that are installed. This behaviour is the source of the following dependency conflicts.\n",
      "imageio 2.31.1 requires pillow>=8.3.2, but you have pillow 7.2.0 which is incompatible.\u001b[0m\u001b[31m\n",
      "\u001b[0mSuccessfully installed Pillow-7.2.0 pymunk-5.6.0 x-magical-0.0.4\n"
     ]
    }
   ],
   "source": [
    "!pip install x-magical"
   ]
  },
  {
   "cell_type": "code",
   "execution_count": 15,
   "id": "9df0f9e7",
   "metadata": {},
   "outputs": [
    {
     "name": "stdout",
     "output_type": "stream",
     "text": [
      "SweepToTop-Gripper-Pixels-Allo-Demo-v0\n",
      "SweepToTop-Gripper-Pixels-Ego-Demo-v0\n",
      "SweepToTop-Gripper-State-Allo-Demo-v0\n",
      "SweepToTop-Gripper-State-Ego-Demo-v0\n",
      "SweepToTop-Gripper-Pixels-Allo-TestLayout-v0\n",
      "SweepToTop-Gripper-Pixels-Ego-TestLayout-v0\n",
      "SweepToTop-Gripper-State-Allo-TestLayout-v0\n",
      "SweepToTop-Gripper-State-Ego-TestLayout-v0\n",
      "SweepToTop-Gripper-Pixels-Allo-TestShape-v0\n",
      "SweepToTop-Gripper-Pixels-Ego-TestShape-v0\n",
      "SweepToTop-Gripper-State-Allo-TestShape-v0\n",
      "SweepToTop-Gripper-State-Ego-TestShape-v0\n",
      "SweepToTop-Gripper-Pixels-Allo-TestColor-v0\n",
      "SweepToTop-Gripper-Pixels-Ego-TestColor-v0\n",
      "SweepToTop-Gripper-State-Allo-TestColor-v0\n",
      "SweepToTop-Gripper-State-Ego-TestColor-v0\n",
      "SweepToTop-Gripper-Pixels-Allo-TestDynamics-v0\n",
      "SweepToTop-Gripper-Pixels-Ego-TestDynamics-v0\n",
      "SweepToTop-Gripper-State-Allo-TestDynamics-v0\n",
      "SweepToTop-Gripper-State-Ego-TestDynamics-v0\n",
      "SweepToTop-Gripper-Pixels-Allo-TestAll-v0\n",
      "SweepToTop-Gripper-Pixels-Ego-TestAll-v0\n",
      "SweepToTop-Gripper-State-Allo-TestAll-v0\n",
      "SweepToTop-Gripper-State-Ego-TestAll-v0\n",
      "SweepToTop-Shortstick-Pixels-Allo-Demo-v0\n",
      "SweepToTop-Shortstick-Pixels-Ego-Demo-v0\n",
      "SweepToTop-Shortstick-State-Allo-Demo-v0\n",
      "SweepToTop-Shortstick-State-Ego-Demo-v0\n",
      "SweepToTop-Shortstick-Pixels-Allo-TestLayout-v0\n",
      "SweepToTop-Shortstick-Pixels-Ego-TestLayout-v0\n",
      "SweepToTop-Shortstick-State-Allo-TestLayout-v0\n",
      "SweepToTop-Shortstick-State-Ego-TestLayout-v0\n",
      "SweepToTop-Shortstick-Pixels-Allo-TestShape-v0\n",
      "SweepToTop-Shortstick-Pixels-Ego-TestShape-v0\n",
      "SweepToTop-Shortstick-State-Allo-TestShape-v0\n",
      "SweepToTop-Shortstick-State-Ego-TestShape-v0\n",
      "SweepToTop-Shortstick-Pixels-Allo-TestColor-v0\n",
      "SweepToTop-Shortstick-Pixels-Ego-TestColor-v0\n",
      "SweepToTop-Shortstick-State-Allo-TestColor-v0\n",
      "SweepToTop-Shortstick-State-Ego-TestColor-v0\n",
      "SweepToTop-Shortstick-Pixels-Allo-TestDynamics-v0\n",
      "SweepToTop-Shortstick-Pixels-Ego-TestDynamics-v0\n",
      "SweepToTop-Shortstick-State-Allo-TestDynamics-v0\n",
      "SweepToTop-Shortstick-State-Ego-TestDynamics-v0\n",
      "SweepToTop-Shortstick-Pixels-Allo-TestAll-v0\n",
      "SweepToTop-Shortstick-Pixels-Ego-TestAll-v0\n",
      "SweepToTop-Shortstick-State-Allo-TestAll-v0\n",
      "SweepToTop-Shortstick-State-Ego-TestAll-v0\n",
      "SweepToTop-Mediumstick-Pixels-Allo-Demo-v0\n",
      "SweepToTop-Mediumstick-Pixels-Ego-Demo-v0\n",
      "SweepToTop-Mediumstick-State-Allo-Demo-v0\n",
      "SweepToTop-Mediumstick-State-Ego-Demo-v0\n",
      "SweepToTop-Mediumstick-Pixels-Allo-TestLayout-v0\n",
      "SweepToTop-Mediumstick-Pixels-Ego-TestLayout-v0\n",
      "SweepToTop-Mediumstick-State-Allo-TestLayout-v0\n",
      "SweepToTop-Mediumstick-State-Ego-TestLayout-v0\n",
      "SweepToTop-Mediumstick-Pixels-Allo-TestShape-v0\n",
      "SweepToTop-Mediumstick-Pixels-Ego-TestShape-v0\n",
      "SweepToTop-Mediumstick-State-Allo-TestShape-v0\n",
      "SweepToTop-Mediumstick-State-Ego-TestShape-v0\n",
      "SweepToTop-Mediumstick-Pixels-Allo-TestColor-v0\n",
      "SweepToTop-Mediumstick-Pixels-Ego-TestColor-v0\n",
      "SweepToTop-Mediumstick-State-Allo-TestColor-v0\n",
      "SweepToTop-Mediumstick-State-Ego-TestColor-v0\n",
      "SweepToTop-Mediumstick-Pixels-Allo-TestDynamics-v0\n",
      "SweepToTop-Mediumstick-Pixels-Ego-TestDynamics-v0\n",
      "SweepToTop-Mediumstick-State-Allo-TestDynamics-v0\n",
      "SweepToTop-Mediumstick-State-Ego-TestDynamics-v0\n",
      "SweepToTop-Mediumstick-Pixels-Allo-TestAll-v0\n",
      "SweepToTop-Mediumstick-Pixels-Ego-TestAll-v0\n",
      "SweepToTop-Mediumstick-State-Allo-TestAll-v0\n",
      "SweepToTop-Mediumstick-State-Ego-TestAll-v0\n",
      "SweepToTop-Longstick-Pixels-Allo-Demo-v0\n",
      "SweepToTop-Longstick-Pixels-Ego-Demo-v0\n",
      "SweepToTop-Longstick-State-Allo-Demo-v0\n",
      "SweepToTop-Longstick-State-Ego-Demo-v0\n",
      "SweepToTop-Longstick-Pixels-Allo-TestLayout-v0\n",
      "SweepToTop-Longstick-Pixels-Ego-TestLayout-v0\n",
      "SweepToTop-Longstick-State-Allo-TestLayout-v0\n",
      "SweepToTop-Longstick-State-Ego-TestLayout-v0\n",
      "SweepToTop-Longstick-Pixels-Allo-TestShape-v0\n",
      "SweepToTop-Longstick-Pixels-Ego-TestShape-v0\n",
      "SweepToTop-Longstick-State-Allo-TestShape-v0\n",
      "SweepToTop-Longstick-State-Ego-TestShape-v0\n",
      "SweepToTop-Longstick-Pixels-Allo-TestColor-v0\n",
      "SweepToTop-Longstick-Pixels-Ego-TestColor-v0\n",
      "SweepToTop-Longstick-State-Allo-TestColor-v0\n",
      "SweepToTop-Longstick-State-Ego-TestColor-v0\n",
      "SweepToTop-Longstick-Pixels-Allo-TestDynamics-v0\n",
      "SweepToTop-Longstick-Pixels-Ego-TestDynamics-v0\n",
      "SweepToTop-Longstick-State-Allo-TestDynamics-v0\n",
      "SweepToTop-Longstick-State-Ego-TestDynamics-v0\n",
      "SweepToTop-Longstick-Pixels-Allo-TestAll-v0\n",
      "SweepToTop-Longstick-Pixels-Ego-TestAll-v0\n",
      "SweepToTop-Longstick-State-Allo-TestAll-v0\n",
      "SweepToTop-Longstick-State-Ego-TestAll-v0\n"
     ]
    }
   ],
   "source": [
    "import gym\n",
    "import xmagical\n",
    "\n",
    "# This must be called before making any Gym envs.\n",
    "xmagical.register_envs()\n",
    "\n",
    "# List all available environments.\n",
    "for env in xmagical.ALL_REGISTERED_ENVS:\n",
    "    print(env)\n",
    "\n"
   ]
  },
  {
   "cell_type": "code",
   "execution_count": 18,
   "id": "c1b51d3d",
   "metadata": {},
   "outputs": [
    {
     "name": "stdout",
     "output_type": "stream",
     "text": [
      "(384, 384, 3)\n"
     ]
    }
   ],
   "source": [
    "# Create a demo variant for the SweepToTop task with a gripper agent.\n",
    "env = gym.make('SweepToTop-Gripper-Pixels-Allo-Demo-v0')\n",
    "obs = env.reset()\n",
    "print(obs.shape)  # (384, 384, 3)\n",
    "env.close()\n"
   ]
  },
  {
   "cell_type": "code",
   "execution_count": 17,
   "id": "22f672f5",
   "metadata": {},
   "outputs": [
    {
     "name": "stdout",
     "output_type": "stream",
     "text": [
      "(16,)\n"
     ]
    }
   ],
   "source": [
    "# Now create a test variant of this task with a shortstick agent,\n",
    "# an egocentric view and a state-based observation space.\n",
    "env = gym.make('SweepToTop-Shortstick-State-Ego-TestLayout-v0')\n",
    "init_obs = env.reset()\n",
    "print(init_obs.shape)  # (16,)\n",
    "env.close()"
   ]
  },
  {
   "cell_type": "code",
   "execution_count": 19,
   "id": "3bff1ce4",
   "metadata": {},
   "outputs": [
    {
     "ename": "AttributeError",
     "evalue": "'SweepToTopEnv' object has no attribute 'get_dataset'",
     "output_type": "error",
     "traceback": [
      "\u001b[0;31m---------------------------------------------------------------------------\u001b[0m",
      "\u001b[0;31mAttributeError\u001b[0m                            Traceback (most recent call last)",
      "Cell \u001b[0;32mIn[19], line 2\u001b[0m\n\u001b[1;32m      1\u001b[0m env \u001b[38;5;241m=\u001b[39m gym\u001b[38;5;241m.\u001b[39mmake(\u001b[38;5;124m'\u001b[39m\u001b[38;5;124mSweepToTop-Gripper-Pixels-Allo-Demo-v0\u001b[39m\u001b[38;5;124m'\u001b[39m)\n\u001b[0;32m----> 2\u001b[0m Gripper \u001b[38;5;241m=\u001b[39m \u001b[43menv\u001b[49m\u001b[38;5;241;43m.\u001b[39;49m\u001b[43mget_dataset\u001b[49m()\n\u001b[1;32m      3\u001b[0m {k:v\u001b[38;5;241m.\u001b[39mshape \u001b[38;5;28;01mfor\u001b[39;00m k,v \u001b[38;5;129;01min\u001b[39;00m Gripper\u001b[38;5;241m.\u001b[39mitems()}\n",
      "\u001b[0;31mAttributeError\u001b[0m: 'SweepToTopEnv' object has no attribute 'get_dataset'"
     ]
    }
   ],
   "source": [
    "env = gym.make('SweepToTop-Gripper-Pixels-Allo-Demo-v0')\n",
    "Gripper = env.get_dataset()\n",
    "{k:v.shape for k,v in Gripper.items()}"
   ]
  },
  {
   "cell_type": "code",
   "execution_count": null,
   "id": "6ce4e735",
   "metadata": {},
   "outputs": [],
   "source": []
  }
 ],
 "metadata": {
  "kernelspec": {
   "display_name": "Python 3 (ipykernel)",
   "language": "python",
   "name": "python3"
  },
  "language_info": {
   "codemirror_mode": {
    "name": "ipython",
    "version": 3
   },
   "file_extension": ".py",
   "mimetype": "text/x-python",
   "name": "python",
   "nbconvert_exporter": "python",
   "pygments_lexer": "ipython3",
   "version": "3.8.18"
  }
 },
 "nbformat": 4,
 "nbformat_minor": 5
}
